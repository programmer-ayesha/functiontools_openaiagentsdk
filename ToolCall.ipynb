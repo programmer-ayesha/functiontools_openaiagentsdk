{
  "cells": [
    {
      "cell_type": "markdown",
      "metadata": {
        "id": "view-in-github",
        "colab_type": "text"
      },
      "source": [
        "<a href=\"https://colab.research.google.com/github/programmer-ayesha/functiontools_openaiagentsdk/blob/main/ToolCall.ipynb\" target=\"_parent\"><img src=\"https://colab.research.google.com/assets/colab-badge.svg\" alt=\"Open In Colab\"/></a>"
      ]
    },
    {
      "cell_type": "code",
      "source": [
        "# ✅ Function Tool Practice Notebook for Quiz + Product (Colab Compatible)\n",
        "\n",
        "# Step 1: Install Required Package\n",
        "!pip install -Uq openai_agents \"openai_agents[litellm]\"\n",
        "\n",
        "# Step 2: Import Required Libraries\n",
        "import nest_asyncio\n",
        "nest_asyncio.apply()\n",
        "\n",
        "from agents import Agent, Runner, function_tool\n",
        "from agents.extensions.models.litellm_model import LitellmModel\n",
        "from google.colab import userdata\n",
        "\n",
        "# Step 3: Configure LLM Model (Gemini)\n",
        "MODEL = \"gemini/gemini-2.0-flash\"\n",
        "GEMINI_API_KEY = userdata.get(\"GEMINI_API_KEY\")\n",
        "\n",
        "# Step 4: Define Your Function Tool\n",
        "@function_tool\n",
        "def weather_tool(city: str) -> str:\n",
        "    print(f\"\\n\\n[TOOL CALLED] Getting weather for {city}\\n\\n\")\n",
        "    return f\"The weather in {city} is sunny and pleasant.\"\n",
        "\n",
        "# ✅ Try Adding Another Tool Below\n",
        "@function_tool\n",
        "def greetings_tool(name: str) -> str:\n",
        "    return f\"Hello {name}, welcome to the AI world!\"\n",
        "\n",
        "# Step 5: Create the Agent\n",
        "agent = Agent(\n",
        "    name=\"QuizAgent\",\n",
        "    instructions=\"You are a helpful assistant. Use tools if needed to answer user queries.\",\n",
        "    tools=[weather_tool, greetings_tool],\n",
        "    model=LitellmModel(model=MODEL, api_key=GEMINI_API_KEY)\n",
        ")\n",
        "\n",
        "# Step 6: Run the Agent with a Prompt\n",
        "result = Runner.run_sync(agent, \"What's the weather in Karachi and then greet Faizan?\")\n",
        "print(\"\\n[FINAL OUTPUT]:\", result.final_output)\n",
        "\n",
        "# ✅ Try these Inputs:\n",
        "# \"Say hello to Ayesha.\"\n",
        "# \"Tell me the weather in Islamabad.\"\n",
        "# \"Can you greet someone named Ali?\"\n",
        "# \"What's the weather in Karachi and then greet Faizan?\"\n",
        "\n",
        "# Quiz Tip:\n",
        "# - Tools should have clear type hints\n",
        "# - LLM decides when to call which tool\n",
        "# - You observe tool print in output = it was called\n",
        "# - Output goes back to LLM → returns final_output"
      ],
      "metadata": {
        "colab": {
          "base_uri": "https://localhost:8080/"
        },
        "id": "1MLdKooYFZrg",
        "outputId": "8a226752-3572-4855-f6c4-a5025274ad01"
      },
      "execution_count": 5,
      "outputs": [
        {
          "output_type": "stream",
          "name": "stderr",
          "text": [
            "WARNING:openai.agents:OPENAI_API_KEY is not set, skipping trace export\n"
          ]
        },
        {
          "output_type": "stream",
          "name": "stdout",
          "text": [
            "\n",
            "\n",
            "[TOOL CALLED] Getting weather for Karachi\n",
            "\n",
            "\n",
            "\n",
            "[FINAL OUTPUT]: The weather in Karachi is sunny and pleasant. Hello Faizan, welcome to the AI world!\n",
            "\n"
          ]
        }
      ]
    }
  ],
  "metadata": {
    "colab": {
      "provenance": [],
      "authorship_tag": "ABX9TyNh5yGpqMceMiaCT5f2VTxT",
      "include_colab_link": true
    },
    "kernelspec": {
      "display_name": "Python 3",
      "name": "python3"
    },
    "language_info": {
      "name": "python"
    }
  },
  "nbformat": 4,
  "nbformat_minor": 0
}